{
 "cells": [
  {
   "cell_type": "code",
   "execution_count": 0,
   "metadata": {
    "colab": {},
    "colab_type": "code",
    "id": "GdNtBjsrBYrX"
   },
   "outputs": [],
   "source": [
    "# Google Driveのマウント\n",
    "from google.colab import drive\n",
    "drive.mount('/content/drive')"
   ]
  },
  {
   "cell_type": "code",
   "execution_count": 0,
   "metadata": {
    "colab": {},
    "colab_type": "code",
    "id": "4VjphtHflVC0"
   },
   "outputs": [],
   "source": [
    "# sonic.zipのGoogle Driveからのコピーと解凍\n",
    "!rm -rf sonic.zip\n",
    "!rm -rf sonic\n",
    "!rm -rf __MACOSX\n",
    "!cp /content/drive/My\\ Drive/sonic.zip .\n",
    "!unzip sonic.zip"
   ]
  },
  {
   "cell_type": "code",
   "execution_count": 0,
   "metadata": {
    "colab": {},
    "colab_type": "code",
    "id": "sl7yyC9h1K_h"
   },
   "outputs": [],
   "source": [
    "# Gym　Retroのインストール\n",
    "!pip install gym-retro\n",
    "\n",
    "# OpenAI Baselinesのインストール\n",
    "!git clone https://github.com/openai/baselines.git\n",
    "%cd baselines\n",
    "!pip install -e .\n",
    "%cd .."
   ]
  },
  {
   "cell_type": "code",
   "execution_count": 0,
   "metadata": {
    "colab": {},
    "colab_type": "code",
    "id": "OzfwrRsb1C6N"
   },
   "outputs": [],
   "source": [
    "# ROMのインポート\n",
    "!cp sonic/rom.md /usr/local/lib/python3.6/dist-packages/retro/data/stable/SonicTheHedgehog-Genesis/\n",
    "!ls -l  /usr/local/lib/python3.6/dist-packages/retro/data/stable/SonicTheHedgehog-Genesis/"
   ]
  },
  {
   "cell_type": "code",
   "execution_count": 0,
   "metadata": {
    "colab": {},
    "colab_type": "code",
    "id": "DMoWTBll1G25"
   },
   "outputs": [],
   "source": [
    "# 学習の実行\n",
    "!python sonic/sonic.py"
   ]
  },
  {
   "cell_type": "code",
   "execution_count": 0,
   "metadata": {
    "colab": {},
    "colab_type": "code",
    "id": "cYlAylim5jdp"
   },
   "outputs": [],
   "source": [
    "# best_model.pklとmonitor.csvをGoogle Driveにコピー\n",
    "!cp logs/best_model.pkl /content/drive/My\\ Drive/best_model.pkl\n",
    "!cp logs/monitor.csv /content/drive/My\\ Drive/monitor.csv"
   ]
  }
 ],
 "metadata": {
  "accelerator": "GPU",
  "colab": {
   "collapsed_sections": [],
   "name": "sonic.ipynb",
   "provenance": [],
   "version": "0.3.2"
  },
  "kernelspec": {
   "display_name": "Python 3",
   "language": "python",
   "name": "python3"
  },
  "language_info": {
   "codemirror_mode": {
    "name": "ipython",
    "version": 3
   },
   "file_extension": ".py",
   "mimetype": "text/x-python",
   "name": "python",
   "nbconvert_exporter": "python",
   "pygments_lexer": "ipython3",
   "version": "3.6.7"
  }
 },
 "nbformat": 4,
 "nbformat_minor": 1
}
